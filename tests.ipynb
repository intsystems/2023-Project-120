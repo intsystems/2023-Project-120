{
 "cells": [
  {
   "cell_type": "code",
   "execution_count": 94,
   "metadata": {},
   "outputs": [],
   "source": [
    "import numpy as np\n",
    "with open('logs.txt', 'r') as f:\n",
    "    all = f.readlines()"
   ]
  },
  {
   "cell_type": "code",
   "execution_count": 95,
   "metadata": {},
   "outputs": [],
   "source": [
    "data = {}\n",
    "\n",
    "for ww in ['yes', 'no']:\n",
    "    for wt in ['yes', 'no']:\n",
    "        for lam in [1, 2, 3]:\n",
    "            data.update({f'{ww} {wt} {lam}' : []})"
   ]
  },
  {
   "cell_type": "code",
   "execution_count": 96,
   "metadata": {},
   "outputs": [],
   "source": [
    "for line in all:\n",
    "    li = line.split()\n",
    "    if len(li) > 0:\n",
    "        data[f'{li[0]} {li[1]} {li[2]}'].append(float(li[3]))\n"
   ]
  },
  {
   "cell_type": "code",
   "execution_count": 97,
   "metadata": {},
   "outputs": [
    {
     "name": "stdout",
     "output_type": "stream",
     "text": [
      "yes yes 1 0.9003666854540507\n",
      "yes no 1 0.8991000186284382\n",
      "no yes 1 0.9056333533922832\n",
      "no no 1 0.902600019900004\n",
      "yes yes 2 0.8984666875839232\n",
      "yes no 2 0.8908166864395142\n",
      "no yes 2 0.9063666862805685\n",
      "no no 2 0.9077333532015482\n",
      "yes yes 3 0.9064666862169902\n",
      "yes no 3 0.9100666869481405\n",
      "no yes 3 0.9054333534876505\n",
      "no no 3 0.908816689046224\n"
     ]
    }
   ],
   "source": [
    "for lam in [1, 2, 3]:\n",
    "    for ww in ['yes', 'no']:\n",
    "        for wt in ['yes', 'no']:\n",
    "            print(ww, wt, lam, np.mean(data[f'{ww} {wt} {lam}']))"
   ]
  },
  {
   "cell_type": "code",
   "execution_count": 100,
   "metadata": {},
   "outputs": [
    {
     "name": "stdout",
     "output_type": "stream",
     "text": [
      "lambda =  1 p-value ww and nothing =  0.7044193602597888\n",
      "lambda =  1 p-value ww wt and nothing =  0.8454316964271845\n",
      "lambda =  1 p-value wt and nothing =  0.6810399990159614\n",
      "\n",
      "lambda =  2 p-value ww and nothing =  0.04756177097257664\n",
      "lambda =  2 p-value ww wt and nothing =  0.25797131485872743\n",
      "lambda =  2 p-value wt and nothing =  0.7453894905932571\n",
      "\n",
      "lambda =  3 p-value ww and nothing =  0.6878565833246889\n",
      "lambda =  3 p-value ww wt and nothing =  0.5365401027595127\n",
      "lambda =  3 p-value wt and nothing =  0.1580871596404038\n",
      "\n"
     ]
    }
   ],
   "source": [
    "import numpy as np\n",
    "from scipy import stats\n",
    "\n",
    "for lam in [1, 2, 3]:\n",
    "    t_statistic, p_value = stats.ttest_ind(data[f'no no {lam}'], data[f'yes no {lam}'])\n",
    "    print('lambda = ', lam, 'p-value ww and nothing = ', p_value)\n",
    "    t_statistic, p_value = stats.ttest_ind(data[f'no no {lam}'], data[f'yes yes {lam}'])\n",
    "    print('lambda = ', lam, 'p-value ww wt and nothing = ', p_value)\n",
    "    t_statistic, p_value = stats.ttest_ind(data[f'no no {lam}'], data[f'no yes {lam}'])\n",
    "    print('lambda = ', lam, 'p-value wt and nothing = ', p_value)\n",
    "    print()"
   ]
  },
  {
   "cell_type": "code",
   "execution_count": 81,
   "metadata": {},
   "outputs": [
    {
     "name": "stdout",
     "output_type": "stream",
     "text": [
      "t-статистика: -2.293849377453313\n",
      "p-значение: 0.04064750197957935\n"
     ]
    }
   ],
   "source": [
    "import numpy as np\n",
    "from scipy import stats\n",
    "\n",
    "# Создание двух выборок\n",
    "sample1 = np.array([1, 2, 3, 4, 5, 6, 6])\n",
    "sample2 = np.array([2, 4, 6, 8, 10, 11, 14])\n",
    "\n",
    "# Проведение t-теста Стьюдента\n",
    "t_statistic, p_value = stats.ttest_ind(sample1, sample2)\n",
    "\n",
    "print(\"t-статистика:\", t_statistic)\n",
    "print(\"p-значение:\", p_value)\n"
   ]
  },
  {
   "cell_type": "code",
   "execution_count": null,
   "metadata": {},
   "outputs": [],
   "source": []
  }
 ],
 "metadata": {
  "kernelspec": {
   "display_name": "Python 3",
   "language": "python",
   "name": "python3"
  },
  "language_info": {
   "codemirror_mode": {
    "name": "ipython",
    "version": 3
   },
   "file_extension": ".py",
   "mimetype": "text/x-python",
   "name": "python",
   "nbconvert_exporter": "python",
   "pygments_lexer": "ipython3",
   "version": "3.10.2"
  }
 },
 "nbformat": 4,
 "nbformat_minor": 2
}
