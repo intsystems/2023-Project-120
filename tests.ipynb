{
 "cells": [
  {
   "cell_type": "code",
   "execution_count": 101,
   "metadata": {},
   "outputs": [],
   "source": [
    "import numpy as np\n",
    "with open('logs.txt', 'r') as f:\n",
    "    all = f.readlines()"
   ]
  },
  {
   "cell_type": "code",
   "execution_count": 102,
   "metadata": {},
   "outputs": [],
   "source": [
    "data = {}\n",
    "\n",
    "for ww in ['yes', 'no']:\n",
    "    for wt in ['yes', 'no']:\n",
    "        for lam in [1, 2, 3]:\n",
    "            data.update({f'{ww} {wt} {lam}' : []})"
   ]
  },
  {
   "cell_type": "code",
   "execution_count": 103,
   "metadata": {},
   "outputs": [],
   "source": [
    "for line in all:\n",
    "    li = line.split()\n",
    "    if len(li) > 0:\n",
    "        data[f'{li[0]} {li[1]} {li[2]}'].append(float(li[3]))\n"
   ]
  },
  {
   "cell_type": "code",
   "execution_count": 104,
   "metadata": {},
   "outputs": [
    {
     "name": "stdout",
     "output_type": "stream",
     "text": [
      "yes yes 1 0.9019571625300816\n",
      "yes no 1 0.8999571617671421\n",
      "no yes 1 0.9074428773607527\n",
      "no no 1 0.904842876979283\n",
      "yes yes 2 0.8985285922731672\n",
      "yes no 2 0.8898571622031076\n",
      "no yes 2 0.9067857337406703\n",
      "no no 2 0.9080571627208165\n",
      "yes yes 3 0.9058714482443674\n",
      "yes no 3 0.9116000201089042\n",
      "no yes 3 0.9055428774152483\n",
      "no no 3 0.9082285934448243\n"
     ]
    }
   ],
   "source": [
    "for lam in [1, 2, 3]:\n",
    "    for ww in ['yes', 'no']:\n",
    "        for wt in ['yes', 'no']:\n",
    "            print(ww, wt, lam, np.mean(data[f'{ww} {wt} {lam}']))"
   ]
  },
  {
   "cell_type": "code",
   "execution_count": 105,
   "metadata": {},
   "outputs": [
    {
     "name": "stdout",
     "output_type": "stream",
     "text": [
      "lambda =  1 p-value ww and nothing =  0.5502279783803914\n",
      "lambda =  1 p-value ww wt and nothing =  0.774030188437782\n",
      "lambda =  1 p-value wt and nothing =  0.7050623073395148\n",
      "\n",
      "lambda =  2 p-value ww and nothing =  0.014957033146884792\n",
      "lambda =  2 p-value ww wt and nothing =  0.17063033022052693\n",
      "lambda =  2 p-value wt and nothing =  0.722731893274434\n",
      "\n",
      "lambda =  3 p-value ww and nothing =  0.288599417691925\n",
      "lambda =  3 p-value ww wt and nothing =  0.47739756864936045\n",
      "lambda =  3 p-value wt and nothing =  0.19727022502105138\n",
      "\n"
     ]
    }
   ],
   "source": [
    "import numpy as np\n",
    "from scipy import stats\n",
    "\n",
    "for lam in [1, 2, 3]:\n",
    "    t_statistic, p_value = stats.ttest_ind(data[f'no no {lam}'], data[f'yes no {lam}'])\n",
    "    print('lambda = ', lam, 'p-value ww and nothing = ', p_value)\n",
    "    t_statistic, p_value = stats.ttest_ind(data[f'no no {lam}'], data[f'yes yes {lam}'])\n",
    "    print('lambda = ', lam, 'p-value ww wt and nothing = ', p_value)\n",
    "    t_statistic, p_value = stats.ttest_ind(data[f'no no {lam}'], data[f'no yes {lam}'])\n",
    "    print('lambda = ', lam, 'p-value wt and nothing = ', p_value)\n",
    "    print()"
   ]
  },
  {
   "cell_type": "code",
   "execution_count": 106,
   "metadata": {},
   "outputs": [
    {
     "name": "stdout",
     "output_type": "stream",
     "text": [
      "t-статистика: -2.293849377453313\n",
      "p-значение: 0.04064750197957935\n"
     ]
    }
   ],
   "source": [
    "import numpy as np\n",
    "from scipy import stats\n",
    "\n",
    "# Создание двух выборок\n",
    "sample1 = np.array([1, 2, 3, 4, 5, 6, 6])\n",
    "sample2 = np.array([2, 4, 6, 8, 10, 11, 14])\n",
    "\n",
    "# Проведение t-теста Стьюдента\n",
    "t_statistic, p_value = stats.ttest_ind(sample1, sample2)\n",
    "\n",
    "print(\"t-статистика:\", t_statistic)\n",
    "print(\"p-значение:\", p_value)\n"
   ]
  },
  {
   "cell_type": "code",
   "execution_count": null,
   "metadata": {},
   "outputs": [],
   "source": []
  }
 ],
 "metadata": {
  "kernelspec": {
   "display_name": "Python 3",
   "language": "python",
   "name": "python3"
  },
  "language_info": {
   "codemirror_mode": {
    "name": "ipython",
    "version": 3
   },
   "file_extension": ".py",
   "mimetype": "text/x-python",
   "name": "python",
   "nbconvert_exporter": "python",
   "pygments_lexer": "ipython3",
   "version": "3.10.2"
  }
 },
 "nbformat": 4,
 "nbformat_minor": 2
}
